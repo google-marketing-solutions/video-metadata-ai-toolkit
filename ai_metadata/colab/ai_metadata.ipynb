{
 "nbformat": 4,
 "nbformat_minor": 0,
 "metadata": {
  "colab": {
   "provenance": [],
   "toc_visible": true
  },
  "kernelspec": {
   "name": "python3",
   "display_name": "Python 3"
  },
  "language_info": {
   "name": "python"
  }
 },
 "cells": [
  {
   "cell_type": "markdown",
   "source": [
    "# Content Metadata AI Toolkit 🚀\n",
    "\n",
    "Welcome! This Colab notebook allows you to easily generate metadata (like titles, summaries, keywords, and categories) for your video or content files using AI.\n",
    "\n",
    "**How it works:**\n",
    "1.  **Setup:** Run the initial setup cell to install necessary tools and configure your API key.\n",
    "2.  **Upload:** Upload your video or content file(s).\n",
    "3.  **Generate:** Run the subsequent cells to generate different types of metadata based on your uploaded content.\n",
    "\n",
    "**Prerequisites:**\n",
    "* A Google Account (to use Colab).\n",
    "* A Gemini API Key. You'll need to add this as a Colab Secret."
   ],
   "metadata": {
    "id": "intro_markdown"
   }
  },
  {
   "cell_type": "markdown",
   "source": [
    "## Step 0: One-Time Setup\n",
    "\n",
    "This first code cell performs the necessary setup:\n",
    "* Clones the `video-metadata-ai-toolkit` repository from GitHub.\n",
    "* Installs the required Python libraries.\n",
    "* Creates a directory for your uploads.\n",
    "* Imports necessary code modules.\n",
    "* **Crucially, it retrieves your Gemini API key from Colab Secrets.**\n",
    "\n",
    "**➡️ Action Required:**\n",
    "1.  Click the **🔑 Secrets** tab in the left sidebar.\n",
    "2.  Click **+ Add a new secret**.\n",
    "3.  Enter the name `GEMINI_API_KEY`.\n",
    "4.  Paste your Gemini API key into the value field.\n",
    "5.  Enable the toggle **Notebook access**.\n",
    "6.  Close the Secrets panel.\n",
    "7.  Now, run the code cell below."
   ],
   "metadata": {
    "id": "setup_explanation"
   }
  },
  {
   "cell_type": "code",
   "source": [
    "#@title Step 0: Run Setup (Installs tools & configures API Key)\n",
    "\n",
    "# Change directory to the main content folder\n",
    "%cd /content\n",
    "\n",
    "# Remove the repository if it already exists to ensure a fresh clone\n",
    "!if [[ -d \"/content/video-metadata-ai-toolkit\" ]]; then echo \"Removing existing toolkit directory...\"; rm -rf /content/video-metadata-ai-toolkit; fi\n",
    "\n",
    "# Clone the toolkit repository from GitHub\n",
    "print(\"Cloning repository...\"),\n",
    "!git clone https://github.com/google-marketing-solutions/video-metadata-ai-toolkit.git\n",
    "\n",
    "# Install required Python packages (output is hidden for cleaner logs)\n",
    "print(\"Installing requirements...\"),\n",
    "!pip install -r /content/video-metadata-ai-toolkit/requirements.txt &> /dev/null\n",
    "\n",
    "# Create a directory to store uploaded files\n",
    "!mkdir -p /content/uploads\n",
    "\n",
    "# Change directory to where the AI scripts are located\n",
    "%cd /content/video-metadata-ai-toolkit/ai_metadata\n",
    "\n",
    "# Import necessary libraries\n",
    "import os\n",
    "import logging\n",
    "from google.colab import userdata, files\n",
    "import ai_metadata_generator # Toolkit's main AI functions\n",
    "import file_io             # Toolkit's file handling functions\n",
    "\n",
    "# --- API Key Configuration ---\n",
    "print(\"Configuring API Key...\")\n",
    "try:\n",
    "    # Attempt to get the API key from Colab Secrets\n",
    "    api_key = userdata.get('GEMINI_API_KEY')\n",
    "    if not api_key:\n",
    "        raise ValueError(\"API Key not found in Colab Secrets.\")\n",
    "    # Set the API key as an environment variable for the toolkit to use\n",
    "    %env GEMINI_API_KEY = $api_key\n",
    "    print(\"✅ Gemini API Key configured successfully from Secrets.\")\n",
    "except ValueError as e:\n",
    "    print(f\"❌ Error: {e}\")\n",
    "    print(\"Please ensure you have added 'GEMINI_API_KEY' to Colab Secrets (see instructions above).\")\n",
    "except Exception as e:\n",
    "    print(f\"❌ An unexpected error occurred while accessing Secrets: {e}\")\n",
    "\n",
    "# Suppress verbose logging from libraries to keep output clean\n",
    "logging.getLogger().setLevel(logging.CRITICAL)\n",
    "\n",
    "print(\"\\nSetup complete. You can now proceed to Step 1.\")"
   ],
   "metadata": {
    "colab": {
     "base_uri": "https://localhost:8080/"
    },
    "id": "p_eKomM8vJ2n",
    "outputId": "a1b2c3d4-e5f6-7890-1234-56789abcdef0"
   },
   "execution_count": null,
   "outputs": []
  },
  {
   "cell_type": "markdown",
   "source": [
    "## Step 1: Upload Content File(s)\n",
    "\n",
    "Run the cell below to upload your video or other content files.\n",
    "\n",
    "* Click the \"Choose Files\" button that appears after running the cell.\n",
    "* Select one or more files from your computer.\n",
    "* **Note:** If you upload multiple files, the toolkit will treat them collectively as a *single* piece of content when generating metadata in the following steps."
   ],
   "metadata": {
    "id": "upload_explanation"
   }
  },
  {
   "cell_type": "code",
   "source": [
    "#@title Step 1: Upload Your File(s)\n",
    "\n",
    "print(\"Please choose file(s) to upload...\")\n",
    "# Use Colab's file upload widget. Files are saved to the /content/uploads directory.\n",
    "# 'input_files_dict' will store the uploaded file data.\n",
    "input_files_dict = files.upload()\n",
    "\n",
    "# Check if any files were uploaded\n",
    "if not input_files_dict:\n",
    "    print(\"\\n⚠️ No files were uploaded. Please run this cell again and select files.\")\n",
    "    uploaded_files = [] # Ensure uploaded_files is an empty list if nothing was uploaded\n",
    "else:\n",
    "    # Get the names of the uploaded files\n",
    "    uploaded_files = list(input_files_dict.keys())\n",
    "    print(f\"\\n✅ Successfully uploaded: {', '.join(uploaded_files)}\")\n",
    "    # Store the uploaded file paths for later use (prefixed with the upload directory)\n",
    "    uploaded_file_paths = [os.path.join('/content/uploads', f) for f in uploaded_files]\n",
    "\n",
    "    # --- Save uploaded files to the '/content/uploads' directory ---\n",
    "    # This step ensures the files persist in the Colab environment for the toolkit\n",
    "    upload_dir = '/content/uploads'\n",
    "    if not os.path.exists(upload_dir):\n",
    "        os.makedirs(upload_dir)\n",
    "\n",
    "    for filename, content in input_files_dict.items():\n",
    "        filepath = os.path.join(upload_dir, filename)\n",
    "        with open(filepath, 'wb') as f:\n",
    "            f.write(content)\n",
    "        print(f\"   Saved '{filename}' to {filepath}\")\n",
    "\n",
    "    print(\"\\nProceed to the next steps to generate metadata.\")\n",
    "\n",
    "# Clean up the dictionary holding file content in memory, as it's now saved to disk\n",
    "# del input_files_dict"
   ],
   "metadata": {
    "id": "I25Mvgy1TiIJ",
    "colab": {
     "base_uri": "https://localhost:8080/",
     "height": 150
    },
    "outputId": "b2c3d4e5-f6a7-8901-2345-6789abcdef01"
   },
   "execution_count": null,
   "outputs": []
  },
  {
   "cell_type": "markdown",
   "source": [
    "## Step 2: Generate Suggested Titles\n",
    "\n",
    "This cell uses the AI to analyze your uploaded content and suggest relevant and engaging titles."
   ],
   "metadata": {
    "id": "titles_explanation"
   }
  },
  {
   "cell_type": "code",
   "source": [
    "#@title Step 2: Suggest Titles\n",
    "\n",
    "# Check if files were uploaded in the previous step\n",
    "if 'uploaded_file_paths' not in globals() or not uploaded_file_paths:\n",
    "    print(\"❌ No files uploaded yet. Please run Step 1 first.\")\n",
    "else:\n",
    "    print(f\"Analyzing content ({', '.join(uploaded_files)}) for title suggestions...\")\n",
    "    # Create File objects for the toolkit using the saved paths\n",
    "    content_files = [file_io.File(f_path) for f_path in uploaded_file_paths]\n",
    "\n",
    "    try:\n",
    "        # Call the AI function to suggest titles\n",
    "        titles = ai_metadata_generator.suggest_titles(content_files)\n",
    "        print(\"\\n**Suggested Titles:**\")\n",
    "        if titles:\n",
    "            # Print each suggested title\n",
    "            print(\"\\n\".join([f\"- {t}\" for t in titles]))\n",
    "        else:\n",
    "            print(\"No titles were generated.\")\n",
    "\n",
    "    except Exception as e:\n",
    "        print(f\"\\n❌ An error occurred during title generation: {e}\")\n",
    "        print(\"   Please check your API key and ensure the uploaded files are valid.\")\n",
    "\n",
    "    finally:\n",
    "        # Clean up temporary resources used by the File objects\n",
    "        print(\"\\nCleaning up resources...\")\n",
    "        for f in content_files:\n",
    "            f.cleanup()\n"
   ],
   "metadata": {
    "colab": {
     "base_uri": "https://localhost:8080/"
    },
    "id": "o5ZFyRpmxzdZ",
    "outputId": "c3d4e5f6-a7b8-9012-3456-789abcdef012",
    "cellView": "form"
   },
   "execution_count": null,
   "outputs": []
  },
  {
   "cell_type": "markdown",
   "source": [
    "## Step 3: Generate Content Summary\n",
    "\n",
    "This cell generates a concise summary of your content. The summary is intended for an external audience (e.g., a video description) and avoids spoilers."
   ],
   "metadata": {
    "id": "summary_explanation"
   }
  },
  {
   "cell_type": "code",
   "source": [
    "#@title Step 3: Summarize Content (Spoiler-Free)\n",
    "\n",
    "# Check if files were uploaded\n",
    "if 'uploaded_file_paths' not in globals() or not uploaded_file_paths:\n",
    "    print(\"❌ No files uploaded yet. Please run Step 1 first.\")\n",
    "else:\n",
    "    print(f\"Analyzing content ({', '.join(uploaded_files)}) for summary...\")\n",
    "    # Create File objects for the toolkit\n",
    "    content_files = [file_io.File(f_path) for f_path in uploaded_file_paths]\n",
    "\n",
    "    try:\n",
    "        # Call the AI function to generate a summary\n",
    "        description = ai_metadata_generator.summarize(content_files)\n",
    "        print(f\"\\n**Content Summary ({';'.join([os.path.basename(f.name) for f in content_files])}):**\")\n",
    "        if description:\n",
    "            print(description)\n",
    "        else:\n",
    "            print(\"No summary was generated.\")\n",
    "\n",
    "    except Exception as e:\n",
    "        print(f\"\\n❌ An error occurred during summary generation: {e}\")\n",
    "        print(\"   Please check your API key and ensure the uploaded files are valid.\")\n",
    "\n",
    "    finally:\n",
    "        # Clean up temporary resources\n",
    "        print(\"\\nCleaning up resources...\")\n",
    "        for f in content_files:\n",
    "            f.cleanup()"
   ],
   "metadata": {
    "colab": {
     "base_uri": "https://localhost:8080/"
    },
    "outputId": "d4e5f6a7-b8c9-0123-4567-89abcdef0123",
    "cellView": "form",
    "id": "weH8IZdmfIX0"
   },
   "execution_count": null,
   "outputs": []
  },
  {
   "cell_type": "markdown",
   "source": [
    "## Step 4: Generate Keywords\n",
    "\n",
    "This cell suggests relevant keywords based on the content.\n",
    "\n",
    "* **Optional:** You can provide a comma-separated list of `allowed_keywords` below. If you do, the AI will only suggest keywords from that specific list."
   ],
   "metadata": {
    "id": "keywords_explanation"
   }
  },
  {
   "cell_type": "code",
   "source": [
    "#@title Step 4: Generate Keywords\n",
    "\n",
    "# Check if files were uploaded\n",
    "if 'uploaded_file_paths' not in globals() or not uploaded_file_paths:\n",
    "    print(\"❌ No files uploaded yet. Please run Step 1 first.\")\n",
    "else:\n",
    "    # --- User Input for Allowed Keywords --- \n",
    "    #@markdown Enter a comma-separated list of allowed keywords (optional). Leave blank to allow any keywords.\n",
    "    allowed_keywords_input = \"\" #@param {type:\"string\"}\n",
    "    # Split the input string into a list, removing whitespace\n",
    "    allowed_keywords_list = [kw.strip() for kw in allowed_keywords_input.split(\",\") if kw.strip()] if allowed_keywords_input else []\n",
    "\n",
    "    if allowed_keywords_list:\n",
    "        print(f\"Generating keywords restricted to: {', '.join(allowed_keywords_list)}...\")\n",
    "    else:\n",
    "        print(f\"Generating keywords based on content ({', '.join(uploaded_files)})...\")\n",
    "\n",
    "    # Create File objects for the toolkit\n",
    "    content_files = [file_io.File(f_path) for f_path in uploaded_file_paths]\n",
    "\n",
    "    try:\n",
    "        # Call the AI function to generate keywords (metadata)\n",
    "        keywords = ai_metadata_generator.generate_metadata(content_files, allowed_keywords_list)\n",
    "        print(f\"\\n**Suggested Keywords ({';'.join([os.path.basename(f.name) for f in content_files])}):**\")\n",
    "        if keywords:\n",
    "            # Print each suggested keyword\n",
    "            print(\"\\n\".join([f\"- {kw}\" for kw in keywords]))\n",
    "        else:\n",
    "            print(\"No keywords were generated.\")\n",
    "\n",
    "    except Exception as e:\n",
    "        print(f\"\\n❌ An error occurred during keyword generation: {e}\")\n",
    "        print(\"   Please check your API key and ensure the uploaded files are valid.\")\n",
    "\n",
    "    finally:\n",
    "        # Clean up temporary resources\n",
    "        print(\"\\nCleaning up resources...\")\n",
    "        for f in content_files:\n",
    "            f.cleanup()"
   ],
   "metadata": {
    "colab": {
     "base_uri": "https://localhost:8080/"
    },
    "outputId": "e5f6a7b8-c9d0-1234-5678-9abcdef01234",
    "id": "thUjdSJVfeqK"
   },
   "execution_count": null,
   "outputs": []
  },
  {
   "cell_type": "markdown",
   "source": [
    "## Step 5: Generate Key-Values\n",
    "\n",
    "This cell generates specific values associated with a key you define (e.g., Key: `mood`, Values: `happy`, `sad`).\n",
    "\n",
    "* **Required:** Enter the `key` you want to find values for (e.g., `mood`, `genre`, `topic`).\n",
    "* **Optional:** You can provide a comma-separated list of `allowed_values`. If you do, the AI will only suggest values from that specific list for the given key."
   ],
   "metadata": {
    "id": "keyvalue_explanation"
   }
  },
  {
   "cell_type": "code",
   "source": [
    "#@title Step 5: Generate Key-Values\n",
    "\n",
    "# Check if files were uploaded\n",
    "if 'uploaded_file_paths' not in globals() or not uploaded_file_paths:\n",
    "    print(\"❌ No files uploaded yet. Please run Step 1 first.\")\n",
    "else:\n",
    "    # --- User Input for Key and Allowed Values ---\n",
    "    #@markdown Enter the 'key' you want to generate values for (e.g., mood, genre, topic).\n",
    "    key_input = \"mood\" #@param {type:\"string\"}\n",
    "    #@markdown Enter a comma-separated list of allowed values for the key (optional).\n",
    "    allowed_values_input = \"\" #@param {type:\"string\"}\n",
    "    # Split the input string into a list, removing whitespace\n",
    "    allowed_values_list = [val.strip() for val in allowed_values_input.split(\",\") if val.strip()] if allowed_values_input else []\n",
    "\n",
    "    if not key_input:\n",
    "        print(\"❌ Please provide a 'key' to generate values for.\")\n",
    "    else:\n",
    "        print(f\"Generating values for key '{key_input}'...\")\n",
    "        if allowed_values_list:\n",
    "            print(f\"   Restricted to values: {', '.join(allowed_values_list)}\")\n",
    "\n",
    "        # Create File objects for the toolkit\n",
    "        content_files = [file_io.File(f_path) for f_path in uploaded_file_paths]\n",
    "\n",
    "        try:\n",
    "            # Define the key-value structure for the AI function\n",
    "            key_value_obj = ai_metadata_generator.KeyValue(key_input, allowed_values_list)\n",
    "            # Call the AI function to generate key-values\n",
    "            key_values_result = ai_metadata_generator.generate_key_values(content_files, [key_value_obj])\n",
    "\n",
    "            print(f\"\\n**Suggested Values for Key=`{key_input}` ({';'.join([os.path.basename(f.name) for f in content_files])}):**\")\n",
    "            # Check if the key exists in the result and has values\n",
    "            if key_input in key_values_result and key_values_result[key_input]:\n",
    "                # Print each suggested value for the key\n",
    "                print(\"\\n\".join([f\"- {val}\" for val in key_values_result[key_input]]))\n",
    "            else:\n",
    "                print(f\"No values were generated for the key '{key_input}'.\")\n",
    "\n",
    "        except Exception as e:\n",
    "            print(f\"\\n❌ An error occurred during key-value generation: {e}\")\n",
    "            print(\"   Please check your API key and ensure the uploaded files are valid.\")\n",
    "\n",
    "        finally:\n",
    "            # Clean up temporary resources\n",
    "            print(\"\\nCleaning up resources...\")\n",
    "            for f in content_files:\n",
    "                f.cleanup()"
   ],
   "metadata": {
    "id": "b2Ev7pgb3aon",
    "colab": {
     "base_uri": "https://localhost:8080/"
    },
    "outputId": "f6a7b8c9-d0e1-2345-6789-abcdef012345"
   },
   "execution_count": null,
   "outputs": []
  },
  {
   "cell_type": "markdown",
   "source": [
    "## Step 6: Generate IAB Content Categories\n",
    "\n",
    "This cell identifies relevant IAB Tech Lab Content Taxonomy categories (both Content and Audience taxonomies) for your content. This is useful for content classification and advertising purposes."
   ],
   "metadata": {
    "id": "iab_explanation"
   }
  },
  {
   "cell_type": "code",
   "source": [
    "#@title Step 6: Generate IAB Categories\n",
    "\n",
    "# Check if files were uploaded\n",
    "if 'uploaded_file_paths' not in globals() or not uploaded_file_paths:\n",
    "    print(\"❌ No files uploaded yet. Please run Step 1 first.\")\n",
    "else:\n",
    "    print(f\"Analyzing content ({', '.join(uploaded_files)}) for IAB categories...\")\n",
    "    # Create File objects for the toolkit\n",
    "    content_files = [file_io.File(f_path) for f_path in uploaded_file_paths]\n",
    "\n",
    "    try:\n",
    "        # Call the AI function to generate IAB categories\n",
    "        iab_categories = ai_metadata_generator.generate_iab_categories(content_files)\n",
    "        print(f\"\\n**Suggested IAB Categories ({';'.join([os.path.basename(f.name) for f in content_files])}):**\")\n",
    "\n",
    "        if iab_categories:\n",
    "            # Format the output as a table for better readability\n",
    "            # Determine maximum width needed for taxonomy name for alignment\n",
    "            max_taxonomy_len = 0\n",
    "            if iab_categories: # Check if list is not empty\n",
    "              max_taxonomy_len = max(len(cat.taxonomy_name) for cat in iab_categories)\n",
    "            max_taxonomy_len = max(max_taxonomy_len, len('Taxonomy')) # Ensure header fits\n",
    "\n",
    "            # Print table header\n",
    "            header = f\"{'Taxonomy'.ljust(max_taxonomy_len)}  {'ID':>7}  {'Category'}\"\n",
    "            print(header)\n",
    "            print('-' * len(header))\n",
    "\n",
    "            # Print each category row\n",
    "            for category in iab_categories:\n",
    "                print(\n",
    "                    f\"{category.taxonomy_name.ljust(max_taxonomy_len)} \"\n",
    "                    f\" {category.unique_id:>7} \"\n",
    "                    f\" {category.name}\"\n",
    "                )\n",
    "        else:\n",
    "            print(\"No IAB categories were generated.\")\n",
    "\n",
    "    except Exception as e:\n",
    "        print(f\"\\n❌ An error occurred during IAB category generation: {e}\")\n",
    "        print(\"   Please check your API key and ensure the uploaded files are valid.\")\n",
    "\n",
    "    finally:\n",
    "        # Clean up temporary resources\n",
    "        print(\"\\nCleaning up resources...\")\n",
    "        for f in content_files:\n",
    "            f.cleanup()"
   ],
   "metadata": {
    "colab": {
     "base_uri": "https://localhost:8080/"
    },
    "outputId": "0a1b2c3d-4e5f-6789-0123-456789abcdef",
    "id": "6ARG4MdGdwY1"
   },
   "execution_count": null,
   "outputs": []
  },
  {
   "cell_type": "markdown",
   "source": [
    "## Finished!\n",
    "\n",
    "You have successfully generated metadata for your content. You can run the steps again with different files or parameters.\n",
    "\n",
    "*(Optional)* You can run the cell below to remove the files you uploaded from the `/content/uploads` directory if you no longer need them in this Colab session."
   ],
   "metadata": {
    "id": "finish_explanation"
   }
  },
  {
   "cell_type": "code",
   "source": [
    "#@title (Optional) Clean Up Uploaded Files\n",
    "import shutil\n",
    "\n",
    "upload_dir = '/content/uploads'\n",
    "\n",
    "if os.path.exists(upload_dir):\n",
    "    try:\n",
    "        shutil.rmtree(upload_dir)\n",
    "        print(f\"✅ Removed directory and all contents: {upload_dir}\")\n",
    "        # Optional: Also remove the list of uploaded file paths if it exists\n",
    "        if 'uploaded_file_paths' in globals():\n",
    "            del globals()['uploaded_file_paths']\n",
    "        if 'uploaded_files' in globals():\n",
    "             del globals()['uploaded_files']\n",
    "    except Exception as e:\n",
    "        print(f\"❌ Error removing directory {upload_dir}: {e}\")\n",
    "else:\n",
    "    print(f\"ℹ️ Directory {upload_dir} does not exist, no cleanup needed.\")"
   ],
   "metadata": {
    "id": "cleanup_code",
    "colab": {}
   },
   "execution_count": null,
   "outputs": []
  }
 ]
}
